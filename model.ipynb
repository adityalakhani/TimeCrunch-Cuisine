{
 "cells": [
  {
   "cell_type": "code",
   "execution_count": 9,
   "metadata": {},
   "outputs": [],
   "source": [
    "import pandas as pd\n",
    "\n",
    "recipes = pd.read_csv('recipes.csv', engine='python')"
   ]
  },
  {
   "cell_type": "code",
   "execution_count": 32,
   "metadata": {},
   "outputs": [
    {
     "name": "stdout",
     "output_type": "stream",
     "text": [
      "<class 'pandas.core.frame.DataFrame'>\n",
      "RangeIndex: 6871 entries, 0 to 6870\n",
      "Data columns (total 12 columns):\n",
      " #   Column        Non-Null Count  Dtype \n",
      "---  ------        --------------  ----- \n",
      " 0   id            6871 non-null   int64 \n",
      " 1   name          6871 non-null   object\n",
      " 2   ingredients   6865 non-null   object\n",
      " 3   prepTime      6871 non-null   int64 \n",
      " 4   cookTime      6871 non-null   int64 \n",
      " 5   totalTime     6871 non-null   int64 \n",
      " 6   servings      6871 non-null   int64 \n",
      " 7   cuisine       6871 non-null   object\n",
      " 8   course        6871 non-null   object\n",
      " 9   diet          6871 non-null   object\n",
      " 10  instructions  6871 non-null   object\n",
      " 11  image         6871 non-null   object\n",
      "dtypes: int64(5), object(7)\n",
      "memory usage: 644.3+ KB\n"
     ]
    },
    {
     "data": {
      "text/plain": [
       "Index(['id', 'name', 'ingredients', 'prepTime', 'cookTime', 'totalTime',\n",
       "       'servings', 'cuisine', 'course', 'diet', 'instructions', 'image'],\n",
       "      dtype='object')"
      ]
     },
     "execution_count": 32,
     "metadata": {},
     "output_type": "execute_result"
    }
   ],
   "source": [
    "recipes.info(), recipes.shape\n",
    "recipes.columns"
   ]
  },
  {
   "cell_type": "code",
   "execution_count": 33,
   "metadata": {},
   "outputs": [
    {
     "data": {
      "text/html": [
       "<div>\n",
       "<style scoped>\n",
       "    .dataframe tbody tr th:only-of-type {\n",
       "        vertical-align: middle;\n",
       "    }\n",
       "\n",
       "    .dataframe tbody tr th {\n",
       "        vertical-align: top;\n",
       "    }\n",
       "\n",
       "    .dataframe thead th {\n",
       "        text-align: right;\n",
       "    }\n",
       "</style>\n",
       "<table border=\"1\" class=\"dataframe\">\n",
       "  <thead>\n",
       "    <tr style=\"text-align: right;\">\n",
       "      <th></th>\n",
       "      <th>id</th>\n",
       "      <th>name</th>\n",
       "      <th>ingredients</th>\n",
       "      <th>prepTime</th>\n",
       "      <th>cookTime</th>\n",
       "      <th>totalTime</th>\n",
       "      <th>servings</th>\n",
       "      <th>cuisine</th>\n",
       "      <th>course</th>\n",
       "      <th>diet</th>\n",
       "      <th>instructions</th>\n",
       "      <th>image</th>\n",
       "    </tr>\n",
       "  </thead>\n",
       "  <tbody>\n",
       "    <tr>\n",
       "      <th>0</th>\n",
       "      <td>1</td>\n",
       "      <td>Masala Karela Recipe</td>\n",
       "      <td>6 Karela (Bitter Gourd/ Pavakkai) - deseeded,S...</td>\n",
       "      <td>15</td>\n",
       "      <td>30</td>\n",
       "      <td>45</td>\n",
       "      <td>6</td>\n",
       "      <td>Indian</td>\n",
       "      <td>Side Dish</td>\n",
       "      <td>Diabetic Friendly</td>\n",
       "      <td>To begin making the Masala Karela Recipe,de-se...</td>\n",
       "      <td>https://www.archanaskitchen.com/masala-karela-...</td>\n",
       "    </tr>\n",
       "    <tr>\n",
       "      <th>1</th>\n",
       "      <td>2</td>\n",
       "      <td>Spicy Tomato Rice (Recipe)</td>\n",
       "      <td>2-1 / 2 cups rice - cooked, 3 tomatoes, 3 teas...</td>\n",
       "      <td>5</td>\n",
       "      <td>10</td>\n",
       "      <td>15</td>\n",
       "      <td>3</td>\n",
       "      <td>South Indian Recipes</td>\n",
       "      <td>Main Course</td>\n",
       "      <td>Vegetarian</td>\n",
       "      <td>To make tomato puliogere, first cut the tomato...</td>\n",
       "      <td>http://www.archanaskitchen.com/spicy-tomato-ri...</td>\n",
       "    </tr>\n",
       "    <tr>\n",
       "      <th>2</th>\n",
       "      <td>3</td>\n",
       "      <td>Ragi Semiya Upma Recipe - Ragi Millet Vermicel...</td>\n",
       "      <td>1-1/2 cups Rice Vermicelli Noodles (Thin),1 On...</td>\n",
       "      <td>20</td>\n",
       "      <td>30</td>\n",
       "      <td>50</td>\n",
       "      <td>4</td>\n",
       "      <td>South Indian Recipes</td>\n",
       "      <td>South Indian Breakfast</td>\n",
       "      <td>High Protein Vegetarian</td>\n",
       "      <td>To begin making the Ragi Vermicelli Recipe, fi...</td>\n",
       "      <td>http://www.archanaskitchen.com/ragi-vermicelli...</td>\n",
       "    </tr>\n",
       "  </tbody>\n",
       "</table>\n",
       "</div>"
      ],
      "text/plain": [
       "   id                                               name  \\\n",
       "0   1                               Masala Karela Recipe   \n",
       "1   2                         Spicy Tomato Rice (Recipe)   \n",
       "2   3  Ragi Semiya Upma Recipe - Ragi Millet Vermicel...   \n",
       "\n",
       "                                         ingredients  prepTime  cookTime  \\\n",
       "0  6 Karela (Bitter Gourd/ Pavakkai) - deseeded,S...        15        30   \n",
       "1  2-1 / 2 cups rice - cooked, 3 tomatoes, 3 teas...         5        10   \n",
       "2  1-1/2 cups Rice Vermicelli Noodles (Thin),1 On...        20        30   \n",
       "\n",
       "   totalTime  servings               cuisine                  course  \\\n",
       "0         45         6                Indian               Side Dish   \n",
       "1         15         3  South Indian Recipes             Main Course   \n",
       "2         50         4  South Indian Recipes  South Indian Breakfast   \n",
       "\n",
       "                      diet                                       instructions  \\\n",
       "0        Diabetic Friendly  To begin making the Masala Karela Recipe,de-se...   \n",
       "1               Vegetarian  To make tomato puliogere, first cut the tomato...   \n",
       "2  High Protein Vegetarian  To begin making the Ragi Vermicelli Recipe, fi...   \n",
       "\n",
       "                                               image  \n",
       "0  https://www.archanaskitchen.com/masala-karela-...  \n",
       "1  http://www.archanaskitchen.com/spicy-tomato-ri...  \n",
       "2  http://www.archanaskitchen.com/ragi-vermicelli...  "
      ]
     },
     "execution_count": 33,
     "metadata": {},
     "output_type": "execute_result"
    }
   ],
   "source": [
    "recipes.head(3)"
   ]
  },
  {
   "cell_type": "code",
   "execution_count": 34,
   "metadata": {},
   "outputs": [
    {
     "data": {
      "text/plain": [
       "id                                                              1\n",
       "name                                         Masala Karela Recipe\n",
       "ingredients     6 Karela (Bitter Gourd/ Pavakkai) - deseeded,S...\n",
       "prepTime                                                       15\n",
       "cookTime                                                       30\n",
       "totalTime                                                      45\n",
       "servings                                                        6\n",
       "cuisine                                                    Indian\n",
       "course                                                  Side Dish\n",
       "diet                                            Diabetic Friendly\n",
       "instructions    To begin making the Masala Karela Recipe,de-se...\n",
       "image           https://www.archanaskitchen.com/masala-karela-...\n",
       "Name: 0, dtype: object"
      ]
     },
     "execution_count": 34,
     "metadata": {},
     "output_type": "execute_result"
    }
   ],
   "source": [
    "recipes.loc[0]"
   ]
  },
  {
   "cell_type": "code",
   "execution_count": 35,
   "metadata": {},
   "outputs": [
    {
     "data": {
      "text/plain": [
       "1"
      ]
     },
     "execution_count": 35,
     "metadata": {},
     "output_type": "execute_result"
    }
   ],
   "source": [
    "recipes.id[0]"
   ]
  },
  {
   "cell_type": "code",
   "execution_count": 36,
   "metadata": {},
   "outputs": [
    {
     "data": {
      "text/plain": [
       "'Masala Karela Recipe'"
      ]
     },
     "execution_count": 36,
     "metadata": {},
     "output_type": "execute_result"
    }
   ],
   "source": [
    "recipes.name[0]"
   ]
  },
  {
   "cell_type": "code",
   "execution_count": 37,
   "metadata": {},
   "outputs": [
    {
     "data": {
      "text/plain": [
       "'6 Karela (Bitter Gourd/ Pavakkai) - deseeded,Salt - to taste,1 Onion - thinly sliced,3 tablespoon Gram flour (besan),2 teaspoons Turmeric powder (Haldi),1 tablespoon Red Chilli powder,2 teaspoons Cumin seeds (Jeera),1 tablespoon Coriander Powder (Dhania),1 tablespoon Amchur (Dry Mango Powder),Sunflower Oil - as required'"
      ]
     },
     "execution_count": 37,
     "metadata": {},
     "output_type": "execute_result"
    }
   ],
   "source": [
    "recipes.ingredients[0]"
   ]
  },
  {
   "cell_type": "code",
   "execution_count": 38,
   "metadata": {},
   "outputs": [
    {
     "data": {
      "text/plain": [
       "15"
      ]
     },
     "execution_count": 38,
     "metadata": {},
     "output_type": "execute_result"
    }
   ],
   "source": [
    "recipes.prepTime[0]"
   ]
  },
  {
   "cell_type": "code",
   "execution_count": 39,
   "metadata": {},
   "outputs": [
    {
     "data": {
      "text/plain": [
       "30"
      ]
     },
     "execution_count": 39,
     "metadata": {},
     "output_type": "execute_result"
    }
   ],
   "source": [
    "recipes.cookTime[0]"
   ]
  },
  {
   "cell_type": "code",
   "execution_count": 40,
   "metadata": {},
   "outputs": [
    {
     "data": {
      "text/plain": [
       "45"
      ]
     },
     "execution_count": 40,
     "metadata": {},
     "output_type": "execute_result"
    }
   ],
   "source": [
    "recipes.totalTime[0]"
   ]
  },
  {
   "cell_type": "code",
   "execution_count": 41,
   "metadata": {},
   "outputs": [
    {
     "data": {
      "text/plain": [
       "6"
      ]
     },
     "execution_count": 41,
     "metadata": {},
     "output_type": "execute_result"
    }
   ],
   "source": [
    "recipes.servings[0]"
   ]
  },
  {
   "cell_type": "code",
   "execution_count": 42,
   "metadata": {},
   "outputs": [
    {
     "data": {
      "text/plain": [
       "'Indian'"
      ]
     },
     "execution_count": 42,
     "metadata": {},
     "output_type": "execute_result"
    }
   ],
   "source": [
    "recipes.cuisine[0]"
   ]
  },
  {
   "cell_type": "code",
   "execution_count": 43,
   "metadata": {},
   "outputs": [
    {
     "data": {
      "text/plain": [
       "'Side Dish'"
      ]
     },
     "execution_count": 43,
     "metadata": {},
     "output_type": "execute_result"
    }
   ],
   "source": [
    "recipes.course[0]"
   ]
  },
  {
   "cell_type": "code",
   "execution_count": 44,
   "metadata": {},
   "outputs": [
    {
     "data": {
      "text/plain": [
       "'Diabetic Friendly'"
      ]
     },
     "execution_count": 44,
     "metadata": {},
     "output_type": "execute_result"
    }
   ],
   "source": [
    "recipes.diet[0]"
   ]
  },
  {
   "cell_type": "code",
   "execution_count": 45,
   "metadata": {},
   "outputs": [
    {
     "data": {
      "text/plain": [
       "'To begin making the\\xa0Masala Karela Recipe,de-seed the karela and slice. Do not remove the skin as the skin has all the nutrients.\\xa0Add the karela to the pressure cooker with 3 tablespoon of water, salt and turmeric powder and pressure cook for three whistles. Release the pressure immediately and open the lids. Keep aside.Heat oil in a heavy bottomed pan or a kadhai. Add cumin seeds and let it sizzle.Once the cumin seeds have sizzled, add onions and saute them till it turns golden brown in color.Add the karela,\\xa0red chilli powder, amchur powder, coriander powder and besan. Stir to combine the masalas into the karela.Drizzle a little extra oil on the top and mix again. Cover the pan and simmer\\xa0Masala Karela stirring occasionally until everything comes together well. Turn off the heat.Transfer\\xa0Masala Karela into a serving bowl and serve.Serve\\xa0Masala Karela\\xa0along with\\xa0Panchmel Dal\\xa0and\\xa0Phulka\\xa0for a weekday meal with your family.\\xa0'"
      ]
     },
     "execution_count": 45,
     "metadata": {},
     "output_type": "execute_result"
    }
   ],
   "source": [
    "recipes.instructions[0]"
   ]
  },
  {
   "cell_type": "code",
   "execution_count": 46,
   "metadata": {},
   "outputs": [
    {
     "data": {
      "text/plain": [
       "'https://www.archanaskitchen.com/masala-karela-recipe'"
      ]
     },
     "execution_count": 46,
     "metadata": {},
     "output_type": "execute_result"
    }
   ],
   "source": [
    "recipes.image[0]"
   ]
  },
  {
   "cell_type": "code",
   "execution_count": 47,
   "metadata": {},
   "outputs": [
    {
     "data": {
      "text/plain": [
       "id              0\n",
       "name            0\n",
       "ingredients     6\n",
       "prepTime        0\n",
       "cookTime        0\n",
       "totalTime       0\n",
       "servings        0\n",
       "cuisine         0\n",
       "course          0\n",
       "diet            0\n",
       "instructions    0\n",
       "image           0\n",
       "dtype: int64"
      ]
     },
     "execution_count": 47,
     "metadata": {},
     "output_type": "execute_result"
    }
   ],
   "source": [
    "# Function for counting Null values \n",
    "def countNullValues(col):\n",
    "  c = 0\n",
    "  for i in col:\n",
    "    if(i != i):\n",
    "      c+=1\n",
    "  return c\n",
    "\n",
    "recipes.isnull().sum()\n"
   ]
  },
  {
   "cell_type": "code",
   "execution_count": 30,
   "metadata": {},
   "outputs": [
    {
     "data": {
      "text/plain": [
       "id              0\n",
       "name            0\n",
       "ingredients     0\n",
       "prepTime        0\n",
       "cookTime        0\n",
       "totalTime       0\n",
       "servings        0\n",
       "cuisine         0\n",
       "course          0\n",
       "diet            0\n",
       "instructions    0\n",
       "image           0\n",
       "dtype: int64"
      ]
     },
     "execution_count": 30,
     "metadata": {},
     "output_type": "execute_result"
    }
   ],
   "source": [
    "recipes.isnull().sum()"
   ]
  },
  {
   "cell_type": "code",
   "execution_count": 19,
   "metadata": {},
   "outputs": [],
   "source": [
    "def reformatIngredients(columnTitle):\n",
    "    L = []\n",
    "    for i in columnTitle:\n",
    "        L.append(str(i).split(','))\n",
    "    return L"
   ]
  },
  {
   "cell_type": "code",
   "execution_count": 20,
   "metadata": {},
   "outputs": [],
   "source": [
    "def reformatInstructions(columnTitle):\n",
    "    L = []\n",
    "    for i in columnTitle:\n",
    "        L.append(str(i).split('. '))\n",
    "    return L"
   ]
  },
  {
   "cell_type": "code",
   "execution_count": 21,
   "metadata": {},
   "outputs": [],
   "source": [
    "recipes.ingredients = reformatIngredients(recipes.ingredients)\n",
    "recipes.instructions = reformatInstructions(recipes.instructions)"
   ]
  },
  {
   "cell_type": "code",
   "execution_count": 22,
   "metadata": {},
   "outputs": [
    {
     "data": {
      "text/plain": [
       "0       [To begin making the Masala Karela Recipe,de-s...\n",
       "1       [To make tomato puliogere, first cut the tomat...\n",
       "2       [To begin making the Ragi Vermicelli Recipe, f...\n",
       "3       [To begin making Gongura Chicken Curry Recipe ...\n",
       "4       [To make Andhra Style Alam Pachadi, first heat...\n",
       "                              ...                        \n",
       "6866    [गोअन मशरुम जकुटी रेसिपी बनाने के लिए सबसे पहल...\n",
       "6867    [शकरकंदी और मेथी का पराठा रेसिपी बनाने के लिए ...\n",
       "6868    [To begin making Ullikadala Pulusu Recipe | Sp...\n",
       "6869    [To begin making the Kashmiri Kokur Yakhni rec...\n",
       "6870    [नवरंग दाल रेसिपी  बनाने के लिए सबसे पहले सारी...\n",
       "Name: instructions, Length: 6871, dtype: object"
      ]
     },
     "execution_count": 22,
     "metadata": {},
     "output_type": "execute_result"
    }
   ],
   "source": [
    "recipes.instructions"
   ]
  },
  {
   "cell_type": "code",
   "execution_count": 23,
   "metadata": {},
   "outputs": [
    {
     "data": {
      "text/plain": [
       "Indian                  1157\n",
       "Continental             1021\n",
       "North Indian Recipes     938\n",
       "South Indian Recipes     682\n",
       "Italian Recipes          236\n",
       "                        ... \n",
       "Jewish                     1\n",
       "Dessert                    1\n",
       "Side Dish                  1\n",
       "Shandong                   1\n",
       "Lunch                      1\n",
       "Name: cuisine, Length: 82, dtype: int64"
      ]
     },
     "execution_count": 23,
     "metadata": {},
     "output_type": "execute_result"
    }
   ],
   "source": [
    "recipes.cuisine.value_counts()"
   ]
  },
  {
   "cell_type": "code",
   "execution_count": 4,
   "metadata": {},
   "outputs": [],
   "source": [
    "from sklearn.feature_extraction.text import TfidfVectorizer\n",
    "from sklearn.metrics.pairwise import linear_kernel\n",
    "\n",
    "# Weights for each feature\n",
    "weights = {\n",
    "    'name': 0.35,\n",
    "    'servings': 0.1,\n",
    "    'time': 0.3,\n",
    "    'cuisine': 0.15,\n",
    "    'course': 0.1,\n",
    "    'diet': 0.1\n",
    "}"
   ]
  },
  {
   "cell_type": "code",
   "execution_count": 5,
   "metadata": {},
   "outputs": [],
   "source": [
    "# Function to calculate cosine similarity between user input and recipes\n",
    "def get_cosine_similarity(user_input, recipes):\n",
    "    tfidf_vectorizer = TfidfVectorizer(stop_words='english')\n",
    "\n",
    "    # Create a matrix with feature vectors for each recipe\n",
    "    features = recipes[['name', 'servings', 'time', 'cuisine', 'course', 'diet']].fillna('').astype(str)\n",
    "\n",
    "    tfidf_matrix = tfidf_vectorizer.fit_transform(features.apply(lambda x: ' '.join(x), axis=1))\n",
    "    \n",
    "    # Transform the user input into a list of strings\n",
    "    user_vector = tfidf_vectorizer.transform([' '.join(user_input.values())])\n",
    "\n",
    "    cosine_similarities = linear_kernel(user_vector, tfidf_matrix)\n",
    "    return cosine_similarities"
   ]
  },
  {
   "cell_type": "code",
   "execution_count": 6,
   "metadata": {},
   "outputs": [],
   "source": [
    "def get_recommendations(name, servings, time, cuisine, course, diet):\n",
    "    user_input = {\n",
    "        'name': name.lower(),\n",
    "        'servings': str(servings),\n",
    "        'time': str(time),\n",
    "        'cuisine': cuisine.lower(),\n",
    "        'course': course.lower(),\n",
    "        'diet': diet.lower()\n",
    "    }\n",
    "\n",
    "    # Calculate cosine similarity for each feature\n",
    "    similarity = get_cosine_similarity(user_input, recipes)\n",
    "\n",
    "    # Calculate a weighted sum of similarities for each feature\n",
    "    combined_scores = np.sum([similarity * weight for feature, weight in weights.items()], axis=0)\n",
    "\n",
    "    # Get the indices that rank the recipes\n",
    "    sorted_indices = combined_scores.argsort()[0][::-1]\n",
    "\n",
    "    # Get the top 9 recipe recommendations\n",
    "    top_recipe_indices = sorted_indices[:30]\n",
    "    recommended_recipes = [recipes.iloc[i].to_dict() for i in top_recipe_indices]\n",
    "\n",
    "    return recommended_recipes"
   ]
  },
  {
   "cell_type": "code",
   "execution_count": 11,
   "metadata": {},
   "outputs": [
    {
     "name": "stdout",
     "output_type": "stream",
     "text": [
      "                                                   name servings time  \\\n",
      "0                                  Masala Karela Recipe        6   45   \n",
      "1                            Spicy Tomato Rice (Recipe)        3   15   \n",
      "2     Ragi Semiya Upma Recipe - Ragi Millet Vermicel...        4   50   \n",
      "3     Gongura Chicken Curry Recipe - Andhra Style Go...        4   45   \n",
      "4     Andhra Style Alam Pachadi Recipe - Adrak Chutn...        4   30   \n",
      "...                                                 ...      ...  ...   \n",
      "6866                        Goan Mushroom Xacuti Recipe        4   60   \n",
      "6867        Sweet Potato & Methi Stuffed Paratha Recipe        4   90   \n",
      "6868      Ullikadala Pulusu Recipe | Spring Onion Curry        2   15   \n",
      "6869  Kashmiri Style Kokur Yakhni Recipe-Chicken Coo...        4   75   \n",
      "6870                                 Navrang Dal Recipe        4   40   \n",
      "\n",
      "                   cuisine                  course                     diet  \n",
      "0                   Indian               Side Dish        Diabetic Friendly  \n",
      "1     South Indian Recipes             Main Course               Vegetarian  \n",
      "2     South Indian Recipes  South Indian Breakfast  High Protein Vegetarian  \n",
      "3                   Andhra                   Lunch           Non Vegeterian  \n",
      "4                   Andhra  South Indian Breakfast               Vegetarian  \n",
      "...                    ...                     ...                      ...  \n",
      "6866          Goan Recipes                   Lunch               Vegetarian  \n",
      "6867  North Indian Recipes  North Indian Breakfast        Diabetic Friendly  \n",
      "6868                Andhra               Side Dish               Vegetarian  \n",
      "6869              Kashmiri                   Lunch           Non Vegeterian  \n",
      "6870  North Indian Recipes                   Lunch  High Protein Vegetarian  \n",
      "\n",
      "[6871 rows x 6 columns]\n"
     ]
    }
   ],
   "source": [
    "features = recipes[['name', 'servings', 'time', 'cuisine', 'course', 'diet']].fillna('').astype(str)\n",
    "print(features)"
   ]
  }
 ],
 "metadata": {
  "kernelspec": {
   "display_name": "venv",
   "language": "python",
   "name": "python3"
  },
  "language_info": {
   "codemirror_mode": {
    "name": "ipython",
    "version": 3
   },
   "file_extension": ".py",
   "mimetype": "text/x-python",
   "name": "python",
   "nbconvert_exporter": "python",
   "pygments_lexer": "ipython3",
   "version": "3.9.13"
  }
 },
 "nbformat": 4,
 "nbformat_minor": 2
}
